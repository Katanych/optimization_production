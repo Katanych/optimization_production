{
  "cells": [
    {
      "cell_type": "markdown",
      "metadata": {
        "id": "1EnMYy-tbIbr"
      },
      "source": [
        "# Решение тестового задания от компании “БСТ Менеджмент-Консалтинг”\n",
        "\n",
        "## Описание и условие задачи\n",
        "\n",
        "Фабрика производит слова, из первого четверостишия Пушкина \"Во глубине сибирских руд\". Каждый день на фабрику поступает заказ на одно из слов из четверостишья.\n",
        "\n",
        "**Задача**: определить оптимальный набор букв (стратегию), который нужно держать на складе для максимизации прибыли, при условиях:\n",
        "- каждое проданное слово приносит 40 рублей;\n",
        "- если слово невозможно собрать фабрика платит неустойку 10 рублей;\n",
        "- если для того, чтобы собрать слово не хватает только одной буквы, ее можно доставить экспресс доставкой за 2 рубля;\n",
        "- стоимость хранения одной буквы на складе 1 рубль в день;\n",
        "- в конце дня запасы букв на складе возобновляются;\n",
        "- регистр букв не имеет значения;\n",
        "- знаки препинания не учитываются.\n",
        "\n",
        "**Четверостишье**, слова из которого производит фабрика: \\\n",
        "\n",
        "***\n",
        "Во глубине сибирских руд\n",
        "\n",
        "Храните гордое терпенье,\n",
        "\n",
        "Не пропадет ваш скорбный труд\n",
        "\n",
        "И дум высокое стремленье.\n"
      ]
    },
    {
      "cell_type": "markdown",
      "metadata": {
        "id": "VPiGgPSfLeZo"
      },
      "source": [
        "## 1 Исследовательский анализ данных"
      ]
    },
    {
      "cell_type": "code",
      "source": [
        "from collections import Counter, OrderedDict\n",
        "import pandas as pd\n",
        "import matplotlib.pyplot as plt\n",
        "from random import choice\n",
        "from itertools import product\n",
        "from ast import literal_eval"
      ],
      "metadata": {
        "id": "HsskcwM05gbT"
      },
      "execution_count": null,
      "outputs": []
    },
    {
      "cell_type": "markdown",
      "source": [
        "### 1.1 Исходные данные\n",
        "Создадим глобальные переменные:\n",
        "- `WORDS` - список всех слов в четверостишье;\n",
        "- `QUATRAIN` - строка исходного четвиростишья."
      ],
      "metadata": {
        "id": "KPKswU5c1Bmp"
      }
    },
    {
      "cell_type": "code",
      "execution_count": null,
      "metadata": {
        "id": "R4Exrg-0HvK8"
      },
      "outputs": [],
      "source": [
        "WORDS = [\n",
        "    'во', 'глубине', 'сибирских', 'руд', 'храните', 'гордое', 'терпенье', 'не',\n",
        "    'пропадет', 'ваш', 'скорбный', 'труд', 'и', 'дум', 'высокое', 'стремленье'\n",
        "]\n",
        "\n",
        "QUATRAIN = \"\".join(WORDS)"
      ]
    },
    {
      "cell_type": "markdown",
      "source": [
        "###1.2 Частотная таблица"
      ],
      "metadata": {
        "id": "1sgO4VAt2I1D"
      }
    },
    {
      "cell_type": "markdown",
      "source": [
        "Сформируем `DataFrame` основной статистической информации о входном четверостишье. Для этого выделим следующие словари:\n",
        "- `freq_letter_in_quatre` - частота буквы в четверостишье;\n",
        "- `max_num_occur_letter_in_word` - максимальное количество вхождений буквы в слово;\n",
        "- `freq_occur_letters_in_words` - частота встречи буквы в словах четверостишья;\n"
      ],
      "metadata": {
        "id": "JeK5_n2r2j-B"
      }
    },
    {
      "cell_type": "code",
      "execution_count": null,
      "metadata": {
        "id": "HD4_OpuCLYe1"
      },
      "outputs": [],
      "source": [
        "freq_letter_in_quatre = Counter(QUATRAIN)\n",
        "\n",
        "unique_letters = set(QUATRAIN)\n",
        "max_num_occur_letter_in_word = dict()\n",
        "freq_occur_letters_in_words = dict()\n",
        "\n",
        "for letter in unique_letters:\n",
        "    max_num_occur_letter_in_word[letter] = 0\n",
        "    freq_occur_letters_in_words[letter] = 0\n",
        "    for word in WORDS:\n",
        "        if word.count(letter) > max_num_occur_letter_in_word[letter]:\n",
        "            max_num_occur_letter_in_word[letter] = word.count(letter)\n",
        "        if letter in word:\n",
        "            freq_occur_letters_in_words[letter] += 1"
      ]
    },
    {
      "cell_type": "code",
      "source": [
        "df = pd.DataFrame([freq_letter_in_quatre, max_num_occur_letter_in_word, freq_occur_letters_in_words],\n",
        "    index=[\n",
        "        \"Частота буквы в четверостишье\", \"Максимальное количество вхождений буквы в слово\",\\\n",
        "        \"Частота встречи буквы в словах четверостишья\"])\n",
        "df = df[df.iloc[0].sort_values().index]\n",
        "\n",
        "pd.set_option('display.max_columns', None)\n",
        "df.head()"
      ],
      "metadata": {
        "colab": {
          "base_uri": "https://localhost:8080/",
          "height": 143
        },
        "id": "23HYwIuQhzpo",
        "outputId": "342d6184-40f0-4174-de36-9090c42bfe3e"
      },
      "execution_count": null,
      "outputs": [
        {
          "output_type": "execute_result",
          "data": {
            "text/plain": [
              "                                                 ш  й  м  ы  г  л  ь  х  п  а  \\\n",
              "Частота буквы в четверостишье                    1  1  2  2  2  2  2  2  3  3   \n",
              "Максимальное количество вхождений буквы в слово  1  1  1  1  1  1  1  1  2  1   \n",
              "Частота встречи буквы в словах четверостишья     1  1  2  2  2  2  2  2  2  3   \n",
              "\n",
              "                                                 к  в  б  у  д  т  с  н  и  о  \\\n",
              "Частота буквы в четверостишье                    3  3  3  4  5  5  5  6  6  7   \n",
              "Максимальное количество вхождений буквы в слово  1  1  1  1  1  1  2  1  3  2   \n",
              "Частота встречи буквы в словах четверостишья     3  3  3  4  5  5  4  6  4  5   \n",
              "\n",
              "                                                 р   е  \n",
              "Частота буквы в четверостишье                    9  12  \n",
              "Максимальное количество вхождений буквы в слово  1   3  \n",
              "Частота встречи буквы в словах четверостишья     9   8  "
            ],
            "text/html": [
              "\n",
              "  <div id=\"df-f361c4dc-1228-4b9b-bbc4-57d5dd0a071f\">\n",
              "    <div class=\"colab-df-container\">\n",
              "      <div>\n",
              "<style scoped>\n",
              "    .dataframe tbody tr th:only-of-type {\n",
              "        vertical-align: middle;\n",
              "    }\n",
              "\n",
              "    .dataframe tbody tr th {\n",
              "        vertical-align: top;\n",
              "    }\n",
              "\n",
              "    .dataframe thead th {\n",
              "        text-align: right;\n",
              "    }\n",
              "</style>\n",
              "<table border=\"1\" class=\"dataframe\">\n",
              "  <thead>\n",
              "    <tr style=\"text-align: right;\">\n",
              "      <th></th>\n",
              "      <th>ш</th>\n",
              "      <th>й</th>\n",
              "      <th>м</th>\n",
              "      <th>ы</th>\n",
              "      <th>г</th>\n",
              "      <th>л</th>\n",
              "      <th>ь</th>\n",
              "      <th>х</th>\n",
              "      <th>п</th>\n",
              "      <th>а</th>\n",
              "      <th>к</th>\n",
              "      <th>в</th>\n",
              "      <th>б</th>\n",
              "      <th>у</th>\n",
              "      <th>д</th>\n",
              "      <th>т</th>\n",
              "      <th>с</th>\n",
              "      <th>н</th>\n",
              "      <th>и</th>\n",
              "      <th>о</th>\n",
              "      <th>р</th>\n",
              "      <th>е</th>\n",
              "    </tr>\n",
              "  </thead>\n",
              "  <tbody>\n",
              "    <tr>\n",
              "      <th>Частота буквы в четверостишье</th>\n",
              "      <td>1</td>\n",
              "      <td>1</td>\n",
              "      <td>2</td>\n",
              "      <td>2</td>\n",
              "      <td>2</td>\n",
              "      <td>2</td>\n",
              "      <td>2</td>\n",
              "      <td>2</td>\n",
              "      <td>3</td>\n",
              "      <td>3</td>\n",
              "      <td>3</td>\n",
              "      <td>3</td>\n",
              "      <td>3</td>\n",
              "      <td>4</td>\n",
              "      <td>5</td>\n",
              "      <td>5</td>\n",
              "      <td>5</td>\n",
              "      <td>6</td>\n",
              "      <td>6</td>\n",
              "      <td>7</td>\n",
              "      <td>9</td>\n",
              "      <td>12</td>\n",
              "    </tr>\n",
              "    <tr>\n",
              "      <th>Максимальное количество вхождений буквы в слово</th>\n",
              "      <td>1</td>\n",
              "      <td>1</td>\n",
              "      <td>1</td>\n",
              "      <td>1</td>\n",
              "      <td>1</td>\n",
              "      <td>1</td>\n",
              "      <td>1</td>\n",
              "      <td>1</td>\n",
              "      <td>2</td>\n",
              "      <td>1</td>\n",
              "      <td>1</td>\n",
              "      <td>1</td>\n",
              "      <td>1</td>\n",
              "      <td>1</td>\n",
              "      <td>1</td>\n",
              "      <td>1</td>\n",
              "      <td>2</td>\n",
              "      <td>1</td>\n",
              "      <td>3</td>\n",
              "      <td>2</td>\n",
              "      <td>1</td>\n",
              "      <td>3</td>\n",
              "    </tr>\n",
              "    <tr>\n",
              "      <th>Частота встречи буквы в словах четверостишья</th>\n",
              "      <td>1</td>\n",
              "      <td>1</td>\n",
              "      <td>2</td>\n",
              "      <td>2</td>\n",
              "      <td>2</td>\n",
              "      <td>2</td>\n",
              "      <td>2</td>\n",
              "      <td>2</td>\n",
              "      <td>2</td>\n",
              "      <td>3</td>\n",
              "      <td>3</td>\n",
              "      <td>3</td>\n",
              "      <td>3</td>\n",
              "      <td>4</td>\n",
              "      <td>5</td>\n",
              "      <td>5</td>\n",
              "      <td>4</td>\n",
              "      <td>6</td>\n",
              "      <td>4</td>\n",
              "      <td>5</td>\n",
              "      <td>9</td>\n",
              "      <td>8</td>\n",
              "    </tr>\n",
              "  </tbody>\n",
              "</table>\n",
              "</div>\n",
              "      <button class=\"colab-df-convert\" onclick=\"convertToInteractive('df-f361c4dc-1228-4b9b-bbc4-57d5dd0a071f')\"\n",
              "              title=\"Convert this dataframe to an interactive table.\"\n",
              "              style=\"display:none;\">\n",
              "        \n",
              "  <svg xmlns=\"http://www.w3.org/2000/svg\" height=\"24px\"viewBox=\"0 0 24 24\"\n",
              "       width=\"24px\">\n",
              "    <path d=\"M0 0h24v24H0V0z\" fill=\"none\"/>\n",
              "    <path d=\"M18.56 5.44l.94 2.06.94-2.06 2.06-.94-2.06-.94-.94-2.06-.94 2.06-2.06.94zm-11 1L8.5 8.5l.94-2.06 2.06-.94-2.06-.94L8.5 2.5l-.94 2.06-2.06.94zm10 10l.94 2.06.94-2.06 2.06-.94-2.06-.94-.94-2.06-.94 2.06-2.06.94z\"/><path d=\"M17.41 7.96l-1.37-1.37c-.4-.4-.92-.59-1.43-.59-.52 0-1.04.2-1.43.59L10.3 9.45l-7.72 7.72c-.78.78-.78 2.05 0 2.83L4 21.41c.39.39.9.59 1.41.59.51 0 1.02-.2 1.41-.59l7.78-7.78 2.81-2.81c.8-.78.8-2.07 0-2.86zM5.41 20L4 18.59l7.72-7.72 1.47 1.35L5.41 20z\"/>\n",
              "  </svg>\n",
              "      </button>\n",
              "      \n",
              "  <style>\n",
              "    .colab-df-container {\n",
              "      display:flex;\n",
              "      flex-wrap:wrap;\n",
              "      gap: 12px;\n",
              "    }\n",
              "\n",
              "    .colab-df-convert {\n",
              "      background-color: #E8F0FE;\n",
              "      border: none;\n",
              "      border-radius: 50%;\n",
              "      cursor: pointer;\n",
              "      display: none;\n",
              "      fill: #1967D2;\n",
              "      height: 32px;\n",
              "      padding: 0 0 0 0;\n",
              "      width: 32px;\n",
              "    }\n",
              "\n",
              "    .colab-df-convert:hover {\n",
              "      background-color: #E2EBFA;\n",
              "      box-shadow: 0px 1px 2px rgba(60, 64, 67, 0.3), 0px 1px 3px 1px rgba(60, 64, 67, 0.15);\n",
              "      fill: #174EA6;\n",
              "    }\n",
              "\n",
              "    [theme=dark] .colab-df-convert {\n",
              "      background-color: #3B4455;\n",
              "      fill: #D2E3FC;\n",
              "    }\n",
              "\n",
              "    [theme=dark] .colab-df-convert:hover {\n",
              "      background-color: #434B5C;\n",
              "      box-shadow: 0px 1px 3px 1px rgba(0, 0, 0, 0.15);\n",
              "      filter: drop-shadow(0px 1px 2px rgba(0, 0, 0, 0.3));\n",
              "      fill: #FFFFFF;\n",
              "    }\n",
              "  </style>\n",
              "\n",
              "      <script>\n",
              "        const buttonEl =\n",
              "          document.querySelector('#df-f361c4dc-1228-4b9b-bbc4-57d5dd0a071f button.colab-df-convert');\n",
              "        buttonEl.style.display =\n",
              "          google.colab.kernel.accessAllowed ? 'block' : 'none';\n",
              "\n",
              "        async function convertToInteractive(key) {\n",
              "          const element = document.querySelector('#df-f361c4dc-1228-4b9b-bbc4-57d5dd0a071f');\n",
              "          const dataTable =\n",
              "            await google.colab.kernel.invokeFunction('convertToInteractive',\n",
              "                                                     [key], {});\n",
              "          if (!dataTable) return;\n",
              "\n",
              "          const docLinkHtml = 'Like what you see? Visit the ' +\n",
              "            '<a target=\"_blank\" href=https://colab.research.google.com/notebooks/data_table.ipynb>data table notebook</a>'\n",
              "            + ' to learn more about interactive tables.';\n",
              "          element.innerHTML = '';\n",
              "          dataTable['output_type'] = 'display_data';\n",
              "          await google.colab.output.renderOutput(dataTable, element);\n",
              "          const docLink = document.createElement('div');\n",
              "          docLink.innerHTML = docLinkHtml;\n",
              "          element.appendChild(docLink);\n",
              "        }\n",
              "      </script>\n",
              "    </div>\n",
              "  </div>\n",
              "  "
            ]
          },
          "metadata": {},
          "execution_count": 155
        }
      ]
    },
    {
      "cell_type": "markdown",
      "source": [
        "###1.3 Частотные диаграммы"
      ],
      "metadata": {
        "id": "z3imC2r26-M5"
      }
    },
    {
      "cell_type": "markdown",
      "source": [
        "Построим частотную диаграмму букв в четверостишье. Можно заметить, что наиболее используемой буквой здесь является `е` (12 раз), а наименее используемыми - `ш` (1 раз), `й` (1 раз)."
      ],
      "metadata": {
        "id": "1GgmUWWu8vn3"
      }
    },
    {
      "cell_type": "code",
      "source": [
        "sorted_dict = OrderedDict(sorted(freq_letter_in_quatre.items(), key=lambda x: x[1]))\n",
        "\n",
        "my_series = pd.Series(sorted_dict)\n",
        "my_series.plot(kind='bar')\n",
        "\n",
        "plt.xlabel('Буквы')\n",
        "plt.ylabel('Частота')\n",
        "plt.title('Частота буквы в четверостишье')\n",
        "\n",
        "plt.show()"
      ],
      "metadata": {
        "colab": {
          "base_uri": "https://localhost:8080/",
          "height": 471
        },
        "id": "7musbTHC7HsZ",
        "outputId": "37482bbb-5e0e-4b6d-cccb-f31b7a764a14"
      },
      "execution_count": null,
      "outputs": [
        {
          "output_type": "display_data",
          "data": {
            "text/plain": [
              "<Figure size 640x480 with 1 Axes>"
            ],
            "image/png": "[encoded data removed]"
          },
          "metadata": {}
        }
      ]
    },
    {
      "cell_type": "markdown",
      "source": [
        "Теперь построим диаграмму, отражающую частоту встреми буквы в словах четверостишья. Можно увидеть, что буква `р` встречается в 9 словах четверостишья, а бука `й` и `ш` лишь одинажды."
      ],
      "metadata": {
        "id": "SrnQiCgC9hGP"
      }
    },
    {
      "cell_type": "code",
      "source": [
        "sorted_dict = OrderedDict(sorted(freq_occur_letters_in_words.items(), key=lambda x: x[1]))\n",
        "\n",
        "my_series = pd.Series(sorted_dict)\n",
        "my_series.plot(kind='bar')\n",
        "\n",
        "plt.xlabel('Буквы')\n",
        "plt.ylabel('Частота')\n",
        "plt.title('Частота встречи буквы в словах четверостишья')\n",
        "\n",
        "plt.show()"
      ],
      "metadata": {
        "colab": {
          "base_uri": "https://localhost:8080/",
          "height": 471
        },
        "id": "RYPcEv0S-DDB",
        "outputId": "a6a72bb4-16f4-49e8-d5c0-60d66057e490"
      },
      "execution_count": null,
      "outputs": [
        {
          "output_type": "display_data",
          "data": {
            "text/plain": [
              "<Figure size 640x480 with 1 Axes>"
            ],
            "image/png": "[encoded data removed]"
          },
          "metadata": {}
        }
      ]
    },
    {
      "cell_type": "markdown",
      "source": [
        "И построим диаграмму для словаря максимальных вхождений букв в слово. Основываясь лишь на этой диаграмме можно предложить наивное решение предположив, что на складе будут храниться все буквы в необходимом достатке для продажи любого слова. Такая стратегия имеет вид: ('д', 1), ('ы', 1), ('л', 1), ('х', 1), ('в', 1), ('а', 1), ('м', 1), ('й', 1), ('н', 1), ('г', 1), ('ш', 1), ('к', 1), ('у', 1), ('б', 1), ('т', 1), ('р', 1), ('ь', 1), ('о', 2), ('с', 2), ('п', 2), ('е', 3), ('и', 3)\n"
      ],
      "metadata": {
        "id": "OBJR9cQS--4h"
      }
    },
    {
      "cell_type": "code",
      "source": [
        "sorted_dict = OrderedDict(sorted(max_num_occur_letter_in_word.items(), key=lambda x: x[1]))\n",
        "my_series = pd.Series(sorted_dict)\n",
        "my_series.plot(kind='bar')\n",
        "\n",
        "plt.xlabel('Буквы')\n",
        "plt.ylabel('Частота')\n",
        "plt.title('Максимальное количество вхождений буквы в слово')\n",
        "\n",
        "plt.show()"
      ],
      "metadata": {
        "colab": {
          "base_uri": "https://localhost:8080/",
          "height": 471
        },
        "id": "J_lUtnL4_IYc",
        "outputId": "23b6665b-a07f-45b5-876b-648b81c9ef05"
      },
      "execution_count": null,
      "outputs": [
        {
          "output_type": "display_data",
          "data": {
            "text/plain": [
              "<Figure size 640x480 with 1 Axes>"
            ],
            "image/png": "[encoded data removed]"
          },
          "metadata": {}
        }
      ]
    },
    {
      "cell_type": "code",
      "source": [
        "strategy2 = {'х': 1, 'е': 1, 'б': 1, 'и': 1, 'ы': 1, 'о': 1, 'м': 1, 'п': 1, \\\n",
        "             'л': 1, 'ь': 1, 'с': 2, 'к': 1, 'г': 1, 'н': 1, 'а': 1, 'в': 1, \\\n",
        "             'д': 1, 'й': 0, 'ш': 0, 'т': 1, 'у': 1, 'р': 1}"
      ],
      "metadata": {
        "id": "7p3W0NOJnG7P"
      },
      "execution_count": null,
      "outputs": []
    },
    {
      "cell_type": "markdown",
      "metadata": {
        "id": "jHxKMQMeOZyz"
      },
      "source": [
        "## 2 Поиск оптимального набора букв (стратегии) для максимизации прибыли"
      ]
    },
    {
      "cell_type": "markdown",
      "source": [
        "### 2.1 Функция подсчета выгоды за один день"
      ],
      "metadata": {
        "id": "YWjL-y-1Fsoc"
      }
    },
    {
      "cell_type": "markdown",
      "source": [
        "Определим функцию `calculate_profit_day`, которая будет подсчитывать выгоду за один день, на основе определенного набора букв на складе. Функция принимает 2 обязательных и 4 опциональных аргумента:\n",
        "- `word` - слово, заказ случайного (равномерно распределенного) слова на фабрике;\n",
        "- `strategy` - словарь, ключи которого представляют собой набор букв, а значения - их количество на складе;\n",
        "- `express_delivery_cost`, `letter_storage_cost`, `word_price`, `penalty` - опциональные аргументы цены, обозначенные в услоии задачи."
      ],
      "metadata": {
        "id": "2slATztsBG7u"
      }
    },
    {
      "cell_type": "code",
      "execution_count": null,
      "metadata": {
        "id": "BiwUG5uNJvBC"
      },
      "outputs": [],
      "source": [
        "def calculate_profit_day(word, strategy, express_delivery_cost=2, \\\n",
        "                         letter_storage_cost=1, word_price=40, penalty=10):\n",
        "    profit = -sum(strategy.values())\n",
        "    order = Counter(word)\n",
        "    missing_letters = 0\n",
        "\n",
        "    # сколько всего пропущенно\n",
        "    for letter in order.keys():\n",
        "        if order[letter] - strategy[letter] > 0:\n",
        "            missing_letters += 1\n",
        "\n",
        "    if missing_letters > 1:\n",
        "        profit -= penalty\n",
        "    else:\n",
        "        if missing_letters == 1:\n",
        "            profit -= express_delivery_cost\n",
        "        profit += word_price\n",
        "\n",
        "    return profit"
      ]
    },
    {
      "cell_type": "markdown",
      "source": [
        "Протестируем функцию на наивном решении, обозначенном в пункте 1.3.\n",
        "\n",
        "Предположим, что завод будет функционировать на протяжении `10000` дней. Заказы поступают случайно и равномерно распределенно. Таким образом прибыль завода составит`110000` рублей. Что в пересчете `11` руб/день.\n",
        "\n",
        "Несмотря на то, что на складе у нас есть все буквы, которые могут понадобиться для создания любого слова, мы исправно платим за хранения всех этих букв на складе. Необходимо подобрать такой набор букв, который найдет баланс между хранением, экспресс доставкой и неустойкой."
      ],
      "metadata": {
        "id": "oJJ5_qSYDaXZ"
      }
    },
    {
      "cell_type": "code",
      "execution_count": null,
      "metadata": {
        "id": "2F1sSvkqCSZR",
        "colab": {
          "base_uri": "https://localhost:8080/"
        },
        "outputId": "0bd965ee-2f6f-47ab-8f7c-8cc265b08108"
      },
      "outputs": [
        {
          "output_type": "stream",
          "name": "stdout",
          "text": [
            "186288\n"
          ]
        }
      ],
      "source": [
        "strategy = {'р': 1, 'х': 1, 'у': 1, 'е': 3, 'б': 1, 'н': 1, 'и': 3, 'ы': 1, \\\n",
        "             'т': 1, 'о': 2, 'ш': 1, 'м': 1, 'п': 2, 'д': 1, 'л': 1, 'а': 1, \\\n",
        "             'й': 1, 'г': 1, 'ь': 1, 'в': 1, 'с': 2, 'к': 1}\n",
        "\n",
        "total_profit = 0\n",
        "for _ in range(10000):\n",
        "    random_word = choice(WORDS)\n",
        "    total_profit += calculate_profit_day(random_word, strategy)\n",
        "print(total_profit)"
      ]
    },
    {
      "cell_type": "markdown",
      "source": [
        "### 2.2 Генерация стратегий"
      ],
      "metadata": {
        "id": "prFTawiOF0bp"
      }
    },
    {
      "cell_type": "markdown",
      "source": [
        "Первым же возможным решением задачи мог служить полный перебор всех возможных стратегий. Естественным ограничением на максимальное количество каждой буквы является наивное решение (пунк 1.3). Для этого реализуцем функцию `generate_variations`, которая записывает в текстовый файл (чтобы снизить нагрузку на оперативную память) все возможные комбинации набора букв."
      ],
      "metadata": {
        "id": "7wc91OcaGZpU"
      }
    },
    {
      "cell_type": "code",
      "execution_count": null,
      "metadata": {
        "id": "z_RMMm7bELTX"
      },
      "outputs": [],
      "source": [
        "def generate_variations(strategy, tail_strategy, output_file):\n",
        "    keys = list(strategy.keys())\n",
        "    max_values = [strategy[key] + 1 for key in keys]\n",
        "\n",
        "    with open(output_file, 'w') as file:\n",
        "        for values in product(*[range(max_value) for max_value in max_values]):\n",
        "            variation = {keys[i]: values[i] for i in range(len(keys))}\n",
        "            variation |= tail_strategy\n",
        "            file.write(str(variation) + '\\n')"
      ]
    },
    {
      "cell_type": "markdown",
      "source": [
        "Чисто теоретически на этом решение можно было бы и остановить, потому что при ассимптотической сложности стремящейся к O(2^n), где n - количество уникальных букв в четверостишье (21). Средствами Google Colab результат можно было бы получить за 10 часов. Но интереснее решить это гораздо быстрее. Поэтому будем использовать эвристический подход, который позволит уменьшить порядок вычислительной сложности решения.\n",
        "\n",
        "Для этого взглянем на частотную таблицу из пункта 1.2. Зафиксируем на складе буквы, которые встремаются максимум 1 раз в слове и чья частота встречи буквы в словах четверостишья больше 3. Такими буквами являются: `а, к,\tв, б,\tу,\tд,\tт,\tн`. Фиксируем мы их из соображения того, что нам было бы эффективно держать всегда их на складе, потому что они встречаются в наибольшем количестве слов. Также можем из сключить из склада те буквы, которые встречаются всего в одном слове. Таким буквам соответствуют `й, ш`. Таким образом асимтотику можно снизить до О(2^11). Чтобы убедиться в корректности такого подхода, было проведено большое количество экспериментов, которые успешно подтвердили эту гипотезу."
      ],
      "metadata": {
        "id": "Ixc25t21GUVy"
      }
    },
    {
      "cell_type": "code",
      "source": [
        "strategy = {'ы': 1, 'ь': 1, 'х': 1, 'е': 1, 'о': 2, 'п': 2, 'л': 1, 'г': 1,\n",
        "            'с': 2, 'м': 1, 'и': 3}\n",
        "\n",
        "tail_strategy = {'ш': 0, 'й': 0, 'а': 1, 'к': 1, 'в': 1, 'б': 1, 'у': 1, \\\n",
        "                 'д': 1, 'т': 1,'н': 1, 'р': 1}\n",
        "\n",
        "output_file = 'variations.txt'\n",
        "generate_variations(strategy, tail_strategy, output_file)"
      ],
      "metadata": {
        "id": "wtl0_1x1GV4g"
      },
      "execution_count": null,
      "outputs": []
    },
    {
      "cell_type": "markdown",
      "source": [
        "###2.3 Поиск наиболее выгодной стратегии"
      ],
      "metadata": {
        "id": "_SSeuW1eL-5f"
      }
    },
    {
      "cell_type": "markdown",
      "source": [
        "Используя полученные вариации стартегий, посчитаем для каждой выгоду и сохраним самую выгодную в переменную `best_strategy`. Рассматривать будем ситуацию работы завода на проятжении 1000 дней при случайном равномерно распределенном заказе слов."
      ],
      "metadata": {
        "id": "iy5hlf5KMQ4a"
      }
    },
    {
      "cell_type": "code",
      "execution_count": null,
      "metadata": {
        "colab": {
          "base_uri": "https://localhost:8080/"
        },
        "id": "owOCO8NwL9ev",
        "outputId": "6ae5df1b-48ed-4f66-b27e-aaf867be8ca4"
      },
      "outputs": [
        {
          "output_type": "stream",
          "name": "stdout",
          "text": [
            "18610 : {'ы': 1, 'ь': 1, 'х': 1, 'е': 1, 'о': 1, 'п': 1, 'л': 1, 'г': 1, 'с': 2, 'м': 1, 'и': 0, 'ш': 0, 'й': 0, 'а': 1, 'к': 1, 'в': 1, 'б': 1, 'у': 1, 'д': 1, 'т': 1, 'н': 1, 'р': 1}\n"
          ]
        }
      ],
      "source": [
        "best_strategy = \"\"\n",
        "best_profit = 0\n",
        "with open(output_file, 'r') as file:\n",
        "    for line in file:\n",
        "        strategy = literal_eval(line.rstrip())\n",
        "        total_profit = 0\n",
        "        for _ in range(1000):\n",
        "            total_profit += calculate_profit_day(choice(WORDS), strategy)\n",
        "        if total_profit > best_profit:\n",
        "            best_strategy = strategy\n",
        "            best_profit = total_profit\n",
        "print(best_profit, ':', best_strategy)"
      ]
    },
    {
      "cell_type": "markdown",
      "source": [
        "Получим наилучшую стратегию. За тысячу дней она позволит получить доход `18610` рублей, что составляет `18,6` руб/день. Чтобы оценить стабильность стратегии, произвдем несколько экспериментов с разным количеством дней и разными распределениями заказов слов."
      ],
      "metadata": {
        "id": "fj6TGFmzNqGx"
      }
    },
    {
      "cell_type": "code",
      "source": [
        "top_strategy = {'ы': 1, 'ь': 1, 'х': 1, 'е': 1, 'о': 1, 'п': 1, 'л': 1, 'г': 1, \\\n",
        "            'с': 2, 'м': 1, 'и': 0, 'ш': 0, 'й': 0, 'а': 1, 'к': 1, 'в': 1, \\\n",
        "            'б': 1, 'у': 1, 'д': 1, 'т': 1, 'н': 1, 'р': 1}\n",
        "\n",
        "total_profit = 0\n",
        "for _ in range(10000):\n",
        "    random_word = choice(WORDS)\n",
        "    total_profit += calculate_profit_day(random_word, top_strategy)\n",
        "print(total_profit)"
      ],
      "metadata": {
        "colab": {
          "base_uri": "https://localhost:8080/"
        },
        "id": "0k-cu7CGOmvA",
        "outputId": "049087d1-53d5-4037-e19c-f98b6cf434e9"
      },
      "execution_count": null,
      "outputs": [
        {
          "output_type": "stream",
          "name": "stdout",
          "text": [
            "Лешин набор: 6.4924 руб/день\n",
            "Владика набор: 18.621 руб/день\n"
          ]
        }
      ]
    },
    {
      "cell_type": "markdown",
      "source": [
        "# 3 Подведение итогов"
      ],
      "metadata": {
        "id": "hUsdW1zhPEH7"
      }
    },
    {
      "cell_type": "markdown",
      "source": [
        "Добавим в частотную таблицу строку `Наиболее эффективная стратегия`, чтобы сопоставить выбранный набор букв для склада и частотные характеристики."
      ],
      "metadata": {
        "id": "9hcW6Z7PPI_r"
      }
    },
    {
      "cell_type": "code",
      "source": [
        "df.loc[\"Наиболее эффективная стратегия\"] = top_strategy\n",
        "\n",
        "pd.set_option('display.max_columns', None)\n",
        "df.head()"
      ],
      "metadata": {
        "colab": {
          "base_uri": "https://localhost:8080/",
          "height": 175
        },
        "id": "ZrRmirMxPhH9",
        "outputId": "54c4c1d1-1c9d-406e-d2b0-47594d455040"
      },
      "execution_count": null,
      "outputs": [
        {
          "output_type": "execute_result",
          "data": {
            "text/plain": [
              "                                                 ш  й  м  ы  г  л  ь  х  п  а  \\\n",
              "Частота буквы в четверостишье                    1  1  2  2  2  2  2  2  3  3   \n",
              "Максимальное количество вхождений буквы в слово  1  1  1  1  1  1  1  1  2  1   \n",
              "Частота встречи буквы в словах четверостишья     1  1  2  2  2  2  2  2  2  3   \n",
              "Наиболее эффективная стратегия                   0  0  1  1  1  1  1  1  1  1   \n",
              "\n",
              "                                                 к  в  б  у  д  т  с  н  и  о  \\\n",
              "Частота буквы в четверостишье                    3  3  3  4  5  5  5  6  6  7   \n",
              "Максимальное количество вхождений буквы в слово  1  1  1  1  1  1  2  1  3  2   \n",
              "Частота встречи буквы в словах четверостишья     3  3  3  4  5  5  4  6  4  5   \n",
              "Наиболее эффективная стратегия                   1  1  1  1  1  1  2  1  0  1   \n",
              "\n",
              "                                                 р   е  \n",
              "Частота буквы в четверостишье                    9  12  \n",
              "Максимальное количество вхождений буквы в слово  1   3  \n",
              "Частота встречи буквы в словах четверостишья     9   8  \n",
              "Наиболее эффективная стратегия                   1   1  "
            ],
            "text/html": [
              "\n",
              "  <div id=\"df-4d8e10df-bf4f-4342-9971-c3075bd01caa\">\n",
              "    <div class=\"colab-df-container\">\n",
              "      <div>\n",
              "<style scoped>\n",
              "    .dataframe tbody tr th:only-of-type {\n",
              "        vertical-align: middle;\n",
              "    }\n",
              "\n",
              "    .dataframe tbody tr th {\n",
              "        vertical-align: top;\n",
              "    }\n",
              "\n",
              "    .dataframe thead th {\n",
              "        text-align: right;\n",
              "    }\n",
              "</style>\n",
              "<table border=\"1\" class=\"dataframe\">\n",
              "  <thead>\n",
              "    <tr style=\"text-align: right;\">\n",
              "      <th></th>\n",
              "      <th>ш</th>\n",
              "      <th>й</th>\n",
              "      <th>м</th>\n",
              "      <th>ы</th>\n",
              "      <th>г</th>\n",
              "      <th>л</th>\n",
              "      <th>ь</th>\n",
              "      <th>х</th>\n",
              "      <th>п</th>\n",
              "      <th>а</th>\n",
              "      <th>к</th>\n",
              "      <th>в</th>\n",
              "      <th>б</th>\n",
              "      <th>у</th>\n",
              "      <th>д</th>\n",
              "      <th>т</th>\n",
              "      <th>с</th>\n",
              "      <th>н</th>\n",
              "      <th>и</th>\n",
              "      <th>о</th>\n",
              "      <th>р</th>\n",
              "      <th>е</th>\n",
              "    </tr>\n",
              "  </thead>\n",
              "  <tbody>\n",
              "    <tr>\n",
              "      <th>Частота буквы в четверостишье</th>\n",
              "      <td>1</td>\n",
              "      <td>1</td>\n",
              "      <td>2</td>\n",
              "      <td>2</td>\n",
              "      <td>2</td>\n",
              "      <td>2</td>\n",
              "      <td>2</td>\n",
              "      <td>2</td>\n",
              "      <td>3</td>\n",
              "      <td>3</td>\n",
              "      <td>3</td>\n",
              "      <td>3</td>\n",
              "      <td>3</td>\n",
              "      <td>4</td>\n",
              "      <td>5</td>\n",
              "      <td>5</td>\n",
              "      <td>5</td>\n",
              "      <td>6</td>\n",
              "      <td>6</td>\n",
              "      <td>7</td>\n",
              "      <td>9</td>\n",
              "      <td>12</td>\n",
              "    </tr>\n",
              "    <tr>\n",
              "      <th>Максимальное количество вхождений буквы в слово</th>\n",
              "      <td>1</td>\n",
              "      <td>1</td>\n",
              "      <td>1</td>\n",
              "      <td>1</td>\n",
              "      <td>1</td>\n",
              "      <td>1</td>\n",
              "      <td>1</td>\n",
              "      <td>1</td>\n",
              "      <td>2</td>\n",
              "      <td>1</td>\n",
              "      <td>1</td>\n",
              "      <td>1</td>\n",
              "      <td>1</td>\n",
              "      <td>1</td>\n",
              "      <td>1</td>\n",
              "      <td>1</td>\n",
              "      <td>2</td>\n",
              "      <td>1</td>\n",
              "      <td>3</td>\n",
              "      <td>2</td>\n",
              "      <td>1</td>\n",
              "      <td>3</td>\n",
              "    </tr>\n",
              "    <tr>\n",
              "      <th>Частота встречи буквы в словах четверостишья</th>\n",
              "      <td>1</td>\n",
              "      <td>1</td>\n",
              "      <td>2</td>\n",
              "      <td>2</td>\n",
              "      <td>2</td>\n",
              "      <td>2</td>\n",
              "      <td>2</td>\n",
              "      <td>2</td>\n",
              "      <td>2</td>\n",
              "      <td>3</td>\n",
              "      <td>3</td>\n",
              "      <td>3</td>\n",
              "      <td>3</td>\n",
              "      <td>4</td>\n",
              "      <td>5</td>\n",
              "      <td>5</td>\n",
              "      <td>4</td>\n",
              "      <td>6</td>\n",
              "      <td>4</td>\n",
              "      <td>5</td>\n",
              "      <td>9</td>\n",
              "      <td>8</td>\n",
              "    </tr>\n",
              "    <tr>\n",
              "      <th>Наиболее эффективная стратегия</th>\n",
              "      <td>0</td>\n",
              "      <td>0</td>\n",
              "      <td>1</td>\n",
              "      <td>1</td>\n",
              "      <td>1</td>\n",
              "      <td>1</td>\n",
              "      <td>1</td>\n",
              "      <td>1</td>\n",
              "      <td>1</td>\n",
              "      <td>1</td>\n",
              "      <td>1</td>\n",
              "      <td>1</td>\n",
              "      <td>1</td>\n",
              "      <td>1</td>\n",
              "      <td>1</td>\n",
              "      <td>1</td>\n",
              "      <td>2</td>\n",
              "      <td>1</td>\n",
              "      <td>0</td>\n",
              "      <td>1</td>\n",
              "      <td>1</td>\n",
              "      <td>1</td>\n",
              "    </tr>\n",
              "  </tbody>\n",
              "</table>\n",
              "</div>\n",
              "      <button class=\"colab-df-convert\" onclick=\"convertToInteractive('df-4d8e10df-bf4f-4342-9971-c3075bd01caa')\"\n",
              "              title=\"Convert this dataframe to an interactive table.\"\n",
              "              style=\"display:none;\">\n",
              "        \n",
              "  <svg xmlns=\"http://www.w3.org/2000/svg\" height=\"24px\"viewBox=\"0 0 24 24\"\n",
              "       width=\"24px\">\n",
              "    <path d=\"M0 0h24v24H0V0z\" fill=\"none\"/>\n",
              "    <path d=\"M18.56 5.44l.94 2.06.94-2.06 2.06-.94-2.06-.94-.94-2.06-.94 2.06-2.06.94zm-11 1L8.5 8.5l.94-2.06 2.06-.94-2.06-.94L8.5 2.5l-.94 2.06-2.06.94zm10 10l.94 2.06.94-2.06 2.06-.94-2.06-.94-.94-2.06-.94 2.06-2.06.94z\"/><path d=\"M17.41 7.96l-1.37-1.37c-.4-.4-.92-.59-1.43-.59-.52 0-1.04.2-1.43.59L10.3 9.45l-7.72 7.72c-.78.78-.78 2.05 0 2.83L4 21.41c.39.39.9.59 1.41.59.51 0 1.02-.2 1.41-.59l7.78-7.78 2.81-2.81c.8-.78.8-2.07 0-2.86zM5.41 20L4 18.59l7.72-7.72 1.47 1.35L5.41 20z\"/>\n",
              "  </svg>\n",
              "      </button>\n",
              "      \n",
              "  <style>\n",
              "    .colab-df-container {\n",
              "      display:flex;\n",
              "      flex-wrap:wrap;\n",
              "      gap: 12px;\n",
              "    }\n",
              "\n",
              "    .colab-df-convert {\n",
              "      background-color: #E8F0FE;\n",
              "      border: none;\n",
              "      border-radius: 50%;\n",
              "      cursor: pointer;\n",
              "      display: none;\n",
              "      fill: #1967D2;\n",
              "      height: 32px;\n",
              "      padding: 0 0 0 0;\n",
              "      width: 32px;\n",
              "    }\n",
              "\n",
              "    .colab-df-convert:hover {\n",
              "      background-color: #E2EBFA;\n",
              "      box-shadow: 0px 1px 2px rgba(60, 64, 67, 0.3), 0px 1px 3px 1px rgba(60, 64, 67, 0.15);\n",
              "      fill: #174EA6;\n",
              "    }\n",
              "\n",
              "    [theme=dark] .colab-df-convert {\n",
              "      background-color: #3B4455;\n",
              "      fill: #D2E3FC;\n",
              "    }\n",
              "\n",
              "    [theme=dark] .colab-df-convert:hover {\n",
              "      background-color: #434B5C;\n",
              "      box-shadow: 0px 1px 3px 1px rgba(0, 0, 0, 0.15);\n",
              "      filter: drop-shadow(0px 1px 2px rgba(0, 0, 0, 0.3));\n",
              "      fill: #FFFFFF;\n",
              "    }\n",
              "  </style>\n",
              "\n",
              "      <script>\n",
              "        const buttonEl =\n",
              "          document.querySelector('#df-4d8e10df-bf4f-4342-9971-c3075bd01caa button.colab-df-convert');\n",
              "        buttonEl.style.display =\n",
              "          google.colab.kernel.accessAllowed ? 'block' : 'none';\n",
              "\n",
              "        async function convertToInteractive(key) {\n",
              "          const element = document.querySelector('#df-4d8e10df-bf4f-4342-9971-c3075bd01caa');\n",
              "          const dataTable =\n",
              "            await google.colab.kernel.invokeFunction('convertToInteractive',\n",
              "                                                     [key], {});\n",
              "          if (!dataTable) return;\n",
              "\n",
              "          const docLinkHtml = 'Like what you see? Visit the ' +\n",
              "            '<a target=\"_blank\" href=https://colab.research.google.com/notebooks/data_table.ipynb>data table notebook</a>'\n",
              "            + ' to learn more about interactive tables.';\n",
              "          element.innerHTML = '';\n",
              "          dataTable['output_type'] = 'display_data';\n",
              "          await google.colab.output.renderOutput(dataTable, element);\n",
              "          const docLink = document.createElement('div');\n",
              "          docLink.innerHTML = docLinkHtml;\n",
              "          element.appendChild(docLink);\n",
              "        }\n",
              "      </script>\n",
              "    </div>\n",
              "  </div>\n",
              "  "
            ]
          },
          "metadata": {},
          "execution_count": 156
        }
      ]
    },
    {
      "cell_type": "markdown",
      "source": [
        "В выбранной стратегии несмотря на то, что буква `и` часто встречается и в разных словах, и может трижды в одном слове встретиться и в целом шесть раз встречается в четверостишье, мы принимаем решение не закупать букву на склад. Это связано с тем, что одним словом можно пожертвовать и платить за него всегда неустойку (это выгоднее, чем хранить хотя бы две буквы на складе), а в остальные разы она встречается лишь одиножды и мы будем докупать ее экспрессом. В тоже самое время, это будет лишь единственный пропуск, потому что остальные буквы в слове будут однозначно закуплены."
      ],
      "metadata": {
        "id": "lOwkwDCbQXzE"
      }
    },
    {
      "cell_type": "markdown",
      "source": [
        "Стратегия выбиралась на основе генерации всевозможных комбинаций закупки, которые были ограничены эвристическими методами, что помогло снизить автоматический выбро стратегии с 10 часов до 1 минуты."
      ],
      "metadata": {
        "id": "WA8FHU0zS4k5"
      }
    },
    {
      "cell_type": "markdown",
      "source": [
        "Итого, выбранный набор букв, как наиболее оптимальный, который нужно держать на складе для максимизации прибыли при заданных условиях:\n",
        "- приносит доход `18,6` руб/день.\n",
        "- набор букв:"
      ],
      "metadata": {
        "id": "yOD8qhw-RcZR"
      }
    },
    {
      "cell_type": "code",
      "source": [
        "{'ы': 1, 'ь': 1, 'х': 1, 'е': 1, 'о': 1, 'п': 1, 'л': 1, 'г': 1, \\\n",
        "            'с': 2, 'м': 1, 'и': 0, 'ш': 0, 'й': 0, 'а': 1, 'к': 1, 'в': 1, \\\n",
        "            'б': 1, 'у': 1, 'д': 1, 'т': 1, 'н': 1, 'р': 1}"
      ],
      "metadata": {
        "colab": {
          "base_uri": "https://localhost:8080/"
        },
        "id": "06Djdz0uSrcc",
        "outputId": "d6ca78d9-8ed8-400d-91fc-e28c44963713"
      },
      "execution_count": null,
      "outputs": [
        {
          "output_type": "execute_result",
          "data": {
            "text/plain": [
              "{'ы': 1,\n",
              " 'ь': 1,\n",
              " 'х': 1,\n",
              " 'е': 1,\n",
              " 'о': 1,\n",
              " 'п': 1,\n",
              " 'л': 1,\n",
              " 'г': 1,\n",
              " 'с': 2,\n",
              " 'м': 1,\n",
              " 'и': 0,\n",
              " 'ш': 0,\n",
              " 'й': 0,\n",
              " 'а': 1,\n",
              " 'к': 1,\n",
              " 'в': 1,\n",
              " 'б': 1,\n",
              " 'у': 1,\n",
              " 'д': 1,\n",
              " 'т': 1,\n",
              " 'н': 1,\n",
              " 'р': 1}"
            ]
          },
          "metadata": {},
          "execution_count": 157
        }
      ]
    }
  ],
  "metadata": {
    "colab": {
      "provenance": []
    },
    "kernelspec": {
      "display_name": "Python 3",
      "name": "python3"
    },
    "language_info": {
      "name": "python"
    }
  },
  "nbformat": 4,
  "nbformat_minor": 0
}